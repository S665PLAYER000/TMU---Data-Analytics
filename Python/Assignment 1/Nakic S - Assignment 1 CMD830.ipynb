{
  "cells": [
    {
      "cell_type": "markdown",
      "metadata": {
        "id": "kJ6ssXaGJfGN"
      },
      "source": [
        "## CIND830 - Python Programming for Data Science  \n",
        "### Assignment 1 (15% of the final grade)\n",
        "### Due on February 19, 2024, 11:59 PM"
      ]
    },
    {
      "cell_type": "markdown",
      "metadata": {
        "id": "UWjXw7DsJfGP"
      },
      "source": [
        "*****\n",
        "This is a Jupyter Notebook document that extends a simple formatting syntax for authoring HTML and PDF. Review [this](https://jupyter-notebook.readthedocs.io/en/stable/notebook.html) website for more details on using Jupyter Notebooks.\n",
        "\n",
        "Consider using a Jupyter Notebook platform to complete this assignment. Ensure using **Python 3.9 release or higher**, then complete the assignment by inserting your Python code wherever seeing the string <font color='green'>`#STRAHINJA NAKIC.`</font> `\n",
        "\n",
        "You are expected to submit the notebook file (in IPYNB format) and the exported version (either in PDF or HTML) in the same Assignment link in D2L. Use [these](https://www.torontomu.ca/courses/students/tutorials/assignments/) guidelines to submit **both** the IPYNB and the exported file (HTML or PDF). Failing to submit both files will be subject to mark deduction.\n",
        "\n",
        "Please be advised that you cannot get more than 100% in this assignment, and the **BONUS** question (if there is any) will only be graded if all other questions have been submitted."
      ]
    },
    {
      "cell_type": "markdown",
      "metadata": {
        "id": "EAq5nq7shwbI"
      },
      "source": [
        "*****\n",
        "Coverage: <br>\n",
        "1. Data Types and Expressions <br>\n",
        "2. Repetition Statements <br>\n",
        "3. Selection Statements <br>\n",
        "4. Strings, Lists, Tuples and Text Files <br>\n",
        "*****"
      ]
    },
    {
      "cell_type": "markdown",
      "metadata": {
        "id": "2BcANmbiojEP"
      },
      "source": [
        "### **Question 1 [40 pts]**:\n",
        "  \n",
        "**a)**  **[20 pts]**  Write code to reverse an integer number entered by the user, and to give the square root of the reversed number. For example, if the user enters `144`, the output should be `441` and `21.0` (output on separate lines).  \n",
        "\n",
        "**Note that** the program should not use the `[::-1]` method to reverse a number or string."
      ]
    },
    {
      "cell_type": "code",
      "execution_count": null,
      "metadata": {
        "colab": {
          "base_uri": "https://localhost:8080/"
        },
        "execution": {
          "iopub.execute_input": "2024-01-15T22:39:38.855Z",
          "iopub.status.busy": "2024-01-15T22:39:38.849Z",
          "iopub.status.idle": "2024-01-15T22:39:38.862Z",
          "shell.execute_reply": "2024-01-15T22:39:38.779Z"
        },
        "id": "eDzEZnZAotKS",
        "outputId": "e5e9ae47-5b46-4b1b-badb-10f43265a69c"
      },
      "outputs": [
        {
          "name": "stdout",
          "output_type": "stream",
          "text": [
            "Enter an integer number: 5\n",
            "5\n",
            "2.23606797749979\n"
          ]
        }
      ],
      "source": [
        "def reverse_integer(number):\n",
        "    reversed_number = 0\n",
        "    while number != 0:\n",
        "        digit = number % 10\n",
        "        reversed_number = reversed_number * 10 + digit\n",
        "        number //= 10\n",
        "    return reversed_number\n",
        "\n",
        "def main():\n",
        "    try:\n",
        "        num = int(input(\"Enter an integer number: \"))\n",
        "        reversed_num = reverse_integer(num)\n",
        "        print(reversed_num)\n",
        "        sqrt_reversed_num = reversed_num ** 0.5\n",
        "        print(sqrt_reversed_num)\n",
        "    except ValueError:\n",
        "        print(\"Please enter a valid integer.\")\n",
        "\n",
        "if __name__ == \"__main__\":\n",
        "    main()\n"
      ]
    },
    {
      "cell_type": "markdown",
      "metadata": {
        "id": "CXJxi2Ozo_ri"
      },
      "source": [
        "**b)**  **[20 pts]** There exists a property called **Reversible Square Root** for certain numbers. These numbers are such that when you square them, then reverse the resulting digits, take the square root of that number and reverse the digits again, the result is the same as the original number.\n",
        "\n",
        "  \n",
        "For example, the number 12 is a Reversible Square Root number because if you square it ($12^{2}$=144), reverse the digits of the result (which gives 441), take the square root of 441 (which is $\\sqrt{441}$=21), and reverse the digits again, you get 12.\n",
        "\n",
        "\n",
        "Write a program to find all the Reversible Square Root numbers between 1 and 5000, inclusively. The program should display these numbers on the same line, separated by a comma. The last number should not have a comma following it.\n",
        "\n",
        "**Note that** the program should not use the `[::-1]` method to reverse a number or string."
      ]
    },
    {
      "cell_type": "code",
      "execution_count": null,
      "metadata": {
        "colab": {
          "base_uri": "https://localhost:8080/"
        },
        "execution": {
          "iopub.execute_input": "2024-01-15T22:39:38.877Z",
          "iopub.status.busy": "2024-01-15T22:39:38.871Z",
          "iopub.status.idle": "2024-01-15T22:39:38.884Z",
          "shell.execute_reply": "2024-01-15T22:39:38.789Z"
        },
        "id": "GsJ4qNakpDQ6",
        "outputId": "bdbad2ae-1f9a-4eb6-eda5-ab7a818da676"
      },
      "outputs": [
        {
          "name": "stdout",
          "output_type": "stream",
          "text": [
            "1,2,3,11,12,13,21,22,31,101,102,103,111,112,113,121,122,201,202,211,212,221,301,311,1001,1002,1003,1011,1012,1013,1021,1022,1031,1101,1102,1103,1111,1112,1113,1121,1122,1201,1202,1211,1212,1301,2001,2002,2011,2012,2021,2022,2101,2102,2111,2121,2201,2202,2211,3001,3011,3101,3111\n"
          ]
        }
      ],
      "source": [
        "def reverse_number(number):\n",
        "    reversed_num = 0\n",
        "    while number > 0:\n",
        "        reversed_num = reversed_num * 10 + number % 10\n",
        "        number //= 10\n",
        "    return reversed_num\n",
        "\n",
        "def is_reversible_square_root(num):\n",
        "    squared = num * num\n",
        "    reversed_squared = reverse_number(squared)\n",
        "    sqrt_reversed_squared = reversed_squared ** 0.5\n",
        "    reversed_sqrt_reversed_squared = reverse_number(int(sqrt_reversed_squared))\n",
        "    return num == reversed_sqrt_reversed_squared\n",
        "\n",
        "def main():\n",
        "    reversible_numbers = []\n",
        "    for num in range(1, 5001):\n",
        "        if is_reversible_square_root(num):\n",
        "            reversible_numbers.append(num)\n",
        "    print(','.join(map(str, reversible_numbers)))\n",
        "\n",
        "if __name__ == \"__main__\":\n",
        "    main()\n",
        "\n",
        "\n"
      ]
    },
    {
      "cell_type": "markdown",
      "metadata": {
        "id": "ykPO8lAcazKV"
      },
      "source": [
        "*****"
      ]
    },
    {
      "cell_type": "markdown",
      "metadata": {
        "id": "GEYuQ9X455W2"
      },
      "source": [
        "### **Question 2  [40 pts]**:\n",
        "\n",
        "\n",
        "Create a text file named `books.txt`. Each line in this file represents a book with its title and price, separated by a comma. For example:\n",
        "```\n",
        "  \"Python Data Science Handbook, $82.61\",\n",
        "  \"Automate the Boring Stuff with Python, $59.99\",\n",
        "  \"Python for Data Analysis, $107.25\",\n",
        "  \"Think Python, $65.69\",\n",
        "  \"Fluent Python, $98.53\",\n",
        "  \"Effective Python, $62.18\",\n",
        "  \"Learning Python, $49.99\",\n",
        "  \"Python Crash Course, $65.99\",\n",
        "  \"Introduction to Machine Learning with Python, $80.43\",\n",
        "  \"Data Science from Scratch, $88.48\"\n",
        "```\n",
        "\n",
        "**Guidelines and Hints**\n",
        "- Use string methods for parsing data.\n",
        "- Utilize lists to store and manipulate book data.\n",
        "- Implement loops for iterating over the list of books.\n",
        "- Apply conditional statements to perform checks and comparisons.\n",
        "- Remember to close the file after reading or writing."
      ]
    },
    {
      "cell_type": "markdown",
      "metadata": {
        "id": "0ZWQVaMF8u_X"
      },
      "source": [
        "**a- [8 pts]**\n",
        "\n",
        "1. Write a Python script to open books.txt.\n",
        "2. Read each line of the file.\n",
        "3. Split each line into the book title and its price.\n",
        "4. Store these in a list of tuples, where each tuple contains the title and price of a book.\n",
        "\n",
        "\n",
        "\n"
      ]
    },
    {
      "cell_type": "code",
      "execution_count": null,
      "metadata": {
        "colab": {
          "base_uri": "https://localhost:8080/"
        },
        "execution": {
          "iopub.execute_input": "2024-01-15T22:39:38.900Z",
          "iopub.status.busy": "2024-01-15T22:39:38.894Z",
          "iopub.status.idle": "2024-01-15T22:39:38.907Z",
          "shell.execute_reply": "2024-01-15T22:39:38.796Z"
        },
        "id": "NIIw7Ia98ixk",
        "outputId": "282b6063-45c4-4d29-c04b-5cd9f91d5911"
      },
      "outputs": [
        {
          "name": "stdout",
          "output_type": "stream",
          "text": [
            "[('Python Data Science Handbook', 82.61), ('Automate the Boring Stuff with Python', 59.99), ('Python for Data Analysis', 107.25), ('Think Python', 65.69), ('Fluent Python', 98.53), ('Effective Python', 62.18), ('Learning Python', 49.99), ('Python Crash Course', 65.99), ('Introduction to Machine Learning with Python', 80.43), ('Data Science from Scratch', 88.48)]\n"
          ]
        }
      ],
      "source": [
        "## I created a file first in order to test my code\n",
        "\n",
        "## Opening the file in write mode\n",
        "with open('books.txt', 'w') as file:\n",
        "    # Writing each book and its price to the file\n",
        "    file.write(\"Python Data Science Handbook, $82.61\\n\")\n",
        "    file.write(\"Automate the Boring Stuff with Python, $59.99\\n\")\n",
        "    file.write(\"Python for Data Analysis, $107.25\\n\")\n",
        "    file.write(\"Think Python, $65.69\\n\")\n",
        "    file.write(\"Fluent Python, $98.53\\n\")\n",
        "    file.write(\"Effective Python, $62.18\\n\")\n",
        "    file.write(\"Learning Python, $49.99\\n\")\n",
        "    file.write(\"Python Crash Course, $65.99\\n\")\n",
        "    file.write(\"Introduction to Machine Learning with Python, $80.43\\n\")\n",
        "    file.write(\"Data Science from Scratch, $88.48\\n\")\n",
        "\n",
        "## Opening the file in read mode\n",
        "with open('books.txt', 'r') as file:\n",
        "    ## Initializing an empty list to store book data\n",
        "    books = []\n",
        "\n",
        "    ## Reading each line of the file\n",
        "    for line in file:\n",
        "        ## Removing leading/trailing whitespaces and newline characters\n",
        "        line = line.strip()\n",
        "\n",
        "        ## Spliting each line into title and price using comma as delimiter\n",
        "        title, price = line.split(\", \")\n",
        "\n",
        "        ## Removing quotation marks from title\n",
        "        title = title.strip('\"')\n",
        "\n",
        "        ## Removing dollar sign from price and convert to float\n",
        "        price = float(price.strip('$'))\n",
        "\n",
        "        ## Appending the tuple (title, price) to the list of books\n",
        "        books.append((title, price))\n",
        "\n",
        "## Printing the list of books\n",
        "print(books)\n"
      ]
    },
    {
      "cell_type": "markdown",
      "metadata": {
        "id": "MOn80_FW91hY"
      },
      "source": [
        "**b-  [32 pts]**\n",
        "\n",
        "Each of the following questions should be addressed in a separate Python script.\n",
        "\n",
        "1. Inventory Summary\n",
        "- How many books are in the inventory?\n",
        "- What is the total value of the inventory?\n",
        "\n",
        "2. Pricing Analysis\n",
        "- What is the average price of a book?\n",
        "- List all books priced above the average price.\n",
        "\n",
        "3. Search and Selection\n",
        "- Find and display the title of the most expensive book.\n",
        "- Display all books with a title containing the word \"The\".\n",
        "\n",
        "4. Data Manipulation\n",
        "- Increase the price of all books by 10%.\n",
        "- Create a new file updated_books.txt with the updated prices."
      ]
    },
    {
      "cell_type": "markdown",
      "metadata": {
        "id": "w4muS3ZJ90qO"
      },
      "source": [
        "\n"
      ]
    },
    {
      "cell_type": "markdown",
      "metadata": {
        "id": "m0WGmqyWLFXn"
      },
      "source": [
        "# Book data\n",
        "books_data = [\n",
        "    \"Python Data Science Handbook, $82.61\",\n",
        "    \"Automate the Boring Stuff with Python, $59.99\",\n",
        "    \"Python for Data Analysis, $107.25\",\n",
        "    \"Think Python, $65.69\",\n",
        "    \"Fluent Python, $98.53\",\n",
        "    \"Effective Python, $62.18\",\n",
        "    \"Learning Python, $49.99\",\n",
        "    \"Python Crash Course, $65.99\",\n",
        "    \"Introduction to Machine Learning with Python, $80.43\",\n",
        "    \"Data Science from Scratch, $88.48\"\n",
        "]\n",
        "\n",
        "# Count the number of books using a regular loop\n",
        "num_books = 0\n",
        "for book in books_data:\n",
        "    num_books += 1\n",
        "\n",
        "print(\"Number of books in inventory:\", num_books)\n"
      ]
    },
    {
      "cell_type": "code",
      "execution_count": null,
      "metadata": {
        "colab": {
          "base_uri": "https://localhost:8080/"
        },
        "id": "fI_YnQKQXWb8",
        "outputId": "8e2755eb-f3bf-43eb-9d67-8cf0d70f04ba"
      },
      "outputs": [
        {
          "name": "stdout",
          "output_type": "stream",
          "text": [
            "Number of books in the inventory: 10\n",
            "Total value of the inventory: $ 761.14\n"
          ]
        }
      ],
      "source": [
        "## Opening the file in read mode\n",
        "with open('books.txt', 'r') as file:\n",
        "    ## Initializing a variable to count the number of books\n",
        "    num_books = 0\n",
        "    ## Iterating over each line in the file\n",
        "    for line in file:\n",
        "        # Incrementing the count for each line\n",
        "        num_books += 1\n",
        "\n",
        "print(\"Number of books in the inventory:\", num_books)\n",
        "\n",
        "## Initializing the total value of the inventory\n",
        "total_value = 0\n",
        "\n",
        "## Opening the file in read mode\n",
        "with open('books.txt', 'r') as file:\n",
        "    ## Iterating over each line in the file\n",
        "    for line in file:\n",
        "        ## Splitting the line by comma to separate title and price\n",
        "        title, price = line.strip().split(', ')\n",
        "        ## Extracting the price by removing the dollar sign and converting to float\n",
        "        price = float(price.replace('$', ''))\n",
        "        ## Adding the price to the total value\n",
        "        total_value += price\n",
        "\n",
        "## Printing the total value of the inventory\n",
        "print(\"Total value of the inventory: $\", format(total_value, '.2f'))\n"
      ]
    },
    {
      "cell_type": "code",
      "execution_count": null,
      "metadata": {
        "colab": {
          "base_uri": "https://localhost:8080/"
        },
        "id": "-M8fJ9moXW7E",
        "outputId": "d19f976a-4699-408f-f76a-6676795bbd54"
      },
      "outputs": [
        {
          "name": "stdout",
          "output_type": "stream",
          "text": [
            "Average price of a book: $ 76.11\n",
            "Books priced above the average price:\n",
            "Python Data Science Handbook - $ 82.61\n",
            "Python for Data Analysis - $ 107.25\n",
            "Fluent Python - $ 98.53\n",
            "Introduction to Machine Learning with Python - $ 80.43\n",
            "Data Science from Scratch - $ 88.48\n"
          ]
        }
      ],
      "source": [
        "## Initializing the total value of the inventory\n",
        "total_value = 0\n",
        "\n",
        "## Initializing the count of books\n",
        "num_books = 0\n",
        "\n",
        "## Opening the file in read mode\n",
        "with open('books.txt', 'r') as file:\n",
        "    # Iterating over each line in the file\n",
        "    for line in file:\n",
        "        ## Splitting the line by comma to separate title and price\n",
        "        title, price = line.strip().split(', ')\n",
        "        ## Extracting the price by removing the dollar sign and converting to float\n",
        "        price = float(price.replace('$', ''))\n",
        "        ## Adding the price to the total value\n",
        "        total_value += price\n",
        "        ## Incrementing the count of books\n",
        "        num_books += 1\n",
        "\n",
        "## Calculating the average price of a book\n",
        "average_price = total_value / num_books\n",
        "\n",
        "## Printing the average price of a book\n",
        "print(\"Average price of a book: $\", format(average_price, '.2f'))\n",
        "\n",
        "## Initializing variables\n",
        "total_value = 0\n",
        "num_books = 0\n",
        "books_above_average = []\n",
        "\n",
        "## Opening the file in read mode\n",
        "with open('books.txt', 'r') as file:\n",
        "    ## Iterating over each line in the file\n",
        "    for line in file:\n",
        "        ## Splitting the line into title and price\n",
        "        title, price_str = line.strip().split(', ')\n",
        "        ## Removing the dollar sign and convert price to float\n",
        "        price = float(price_str.replace('$', ''))\n",
        "        ## Accumulating total value and count of books\n",
        "        total_value += price\n",
        "        num_books += 1\n",
        "\n",
        "## Calculating average price\n",
        "average_price = total_value / num_books\n",
        "\n",
        "## Opening the file again to iterate over it\n",
        "with open('books.txt', 'r') as file:\n",
        "    ## Iterating over each line in the file\n",
        "    for line in file:\n",
        "        ## Splitting the line into title and price\n",
        "        title, price_str = line.strip().split(', ')\n",
        "        ## Removing the dollar sign and convert price to float\n",
        "        price = float(price_str.replace('$', ''))\n",
        "        ## Checking if the price is above average\n",
        "        if price > average_price:\n",
        "            # Adding book title and price to the list\n",
        "            books_above_average.append((title, price))\n",
        "\n",
        "## Printing the list of books priced above the average price\n",
        "print(\"Books priced above the average price:\")\n",
        "for book_title, book_price in books_above_average:\n",
        "    print(book_title, \"- $\", book_price)\n",
        "\n"
      ]
    },
    {
      "cell_type": "code",
      "execution_count": null,
      "metadata": {
        "colab": {
          "base_uri": "https://localhost:8080/"
        },
        "execution": {
          "iopub.execute_input": "2024-01-15T22:39:38.961Z",
          "iopub.status.busy": "2024-01-15T22:39:38.955Z",
          "iopub.status.idle": "2024-01-15T22:39:38.968Z",
          "shell.execute_reply": "2024-01-15T22:39:38.820Z"
        },
        "id": "kY7ZTt7LLJCh",
        "outputId": "6d466aa3-4e56-441d-9afb-72a3b17efc9a"
      },
      "outputs": [
        {
          "name": "stdout",
          "output_type": "stream",
          "text": [
            "The title of the most expensive book is: Python for Data Analysis\n",
            "\n",
            "Books with title containing 'The':\n",
            "Automate the Boring Stuff with Python\n"
          ]
        }
      ],
      "source": [
        "## Initializing variables\n",
        "max_price = 0\n",
        "most_expensive_title = \"\"\n",
        "\n",
        "## Opening the file in read mode\n",
        "with open('books.txt', 'r') as file:\n",
        "    ## Iterating over each line in the file\n",
        "    for line in file:\n",
        "        ## Splitting the line into title and price\n",
        "        title, price_str = line.strip().split(', ')\n",
        "        ## Removing the dollar sign and convert price to float\n",
        "        price = float(price_str.replace('$', ''))\n",
        "        ## Checking if the price is greater than the current maximum price\n",
        "        if price > max_price:\n",
        "            # Updating the maximum price and most expensive title\n",
        "            max_price = price\n",
        "            most_expensive_title = title\n",
        "\n",
        "## Printing the title of the most expensive book\n",
        "print(\"The title of the most expensive book is:\", most_expensive_title)\n",
        "\n",
        "## Opening the file again to iterate over it\n",
        "with open('books.txt', 'r') as file:\n",
        "    ## Printing a separator for readability\n",
        "    print(\"\\nBooks with title containing 'The':\")\n",
        "    ## Iterating over each line in the file\n",
        "    for line in file:\n",
        "        ## Splitting the line into title and price\n",
        "        title, _ = line.strip().split(', ')\n",
        "        ## Checking if the title contains the word \"The\", but also \"the\"\n",
        "        if \"the\" in title.lower():\n",
        "            # Printing the title of the book containing the word \"The\"\n",
        "            print(title)\n",
        "\n",
        "\n"
      ]
    },
    {
      "cell_type": "code",
      "execution_count": null,
      "metadata": {
        "colab": {
          "base_uri": "https://localhost:8080/"
        },
        "execution": {
          "iopub.execute_input": "2024-01-15T22:39:38.983Z",
          "iopub.status.busy": "2024-01-15T22:39:38.978Z",
          "iopub.status.idle": "2024-01-15T22:39:38.990Z",
          "shell.execute_reply": "2024-01-15T22:39:38.830Z"
        },
        "id": "bSCs6HG3LMjR",
        "outputId": "b16b983a-e983-461f-f397-116425f33d16"
      },
      "outputs": [
        {
          "name": "stdout",
          "output_type": "stream",
          "text": [
            "Python Data Science Handbook: $90.87\n",
            "Automate the Boring Stuff with Python: $65.99\n",
            "Python for Data Analysis: $117.98\n",
            "Think Python: $72.26\n",
            "Fluent Python: $108.38\n",
            "Effective Python: $68.40\n",
            "Learning Python: $54.99\n",
            "Python Crash Course: $72.59\n",
            "Introduction to Machine Learning with Python: $88.47\n",
            "Data Science from Scratch: $97.33\n",
            "Updated prices have been written to updated_books.txt\n"
          ]
        }
      ],
      "source": [
        "## Increasing the price of all books by 10%\n",
        "books = [(title, round(price * 1.10, 2)) for title, price in books]\n",
        "\n",
        "## Printing the updated prices\n",
        "for title, price in books:\n",
        "    print(f\"{title}: ${price:.2f}\")\n",
        "\n",
        "## Writing the updated prices to a new file\n",
        "with open('updated_books.txt', 'w') as file:\n",
        "    file.writelines([f\"{title}: ${price:.2f}\\n\" for title, price in books])\n",
        "print(\"Updated prices have been written to updated_books.txt\")\n",
        "\n"
      ]
    },
    {
      "cell_type": "markdown",
      "metadata": {
        "id": "d7jcIV1GOqsU"
      },
      "source": [
        "\n",
        "### **Question 3 [20 pts]**.\n",
        "\n",
        "Create a Control Flow Diagram\n",
        "\n",
        "1. Choose one of the following questions from Q2.b that you have already answered:\n",
        "  - What is the average price of a book?\n",
        "  - List all books priced above the average price.\n",
        "  - Find and display the title of the most expensive book.\n",
        "  - Display all books with a title containing the word \"The\".\n",
        "2. Using pen and paper, sketch a control flow diagram that represents the logic and flow of the Python code for the chosen question. Your diagram should include:\n",
        "  - Start and end points.\n",
        "  - Sequential steps in the process.\n",
        "  - Decision points,if any, where the flow of control depends on a condition.\n",
        "  - Arrows to indicate the flow of the program.\n",
        "3. Once your diagram is complete, take a clear photograph or scan it.\n",
        "4. Convert the image to a PNG or JPG format, if it isn't already.\n",
        "5. Upload the image file along with your Python IPYNB file when submitting your assignment."
      ]
    },
    {
      "cell_type": "markdown",
      "metadata": {
        "id": "jPrZqSxgSWNr"
      },
      "source": [
        "*****\n"
      ]
    },
    {
      "cell_type": "markdown",
      "metadata": {
        "id": "rtC6fqdFNkdO"
      },
      "source": [
        "#### This is the end of assignment 1\n",
        "\n",
        "\n",
        "\n",
        "\n"
      ]
    }
  ],
  "metadata": {
    "colab": {
      "collapsed_sections": [
        "rtC6fqdFNkdO"
      ],
      "provenance": []
    },
    "kernelspec": {
      "display_name": "Python 3",
      "language": "python",
      "name": "python3"
    },
    "language_info": {
      "codemirror_mode": {
        "name": "ipython",
        "version": 3
      },
      "file_extension": ".py",
      "mimetype": "text/x-python",
      "name": "python",
      "nbconvert_exporter": "python",
      "pygments_lexer": "ipython3",
      "version": "3.10.10"
    },
    "nteract": {
      "version": "0.28.0"
    },
    "varInspector": {
      "cols": {
        "lenName": 16,
        "lenType": 16,
        "lenVar": 40
      },
      "kernels_config": {
        "python": {
          "delete_cmd_postfix": "",
          "delete_cmd_prefix": "del ",
          "library": "var_list.py",
          "varRefreshCmd": "print(var_dic_list())"
        },
        "r": {
          "delete_cmd_postfix": ") ",
          "delete_cmd_prefix": "rm(",
          "library": "var_list.r",
          "varRefreshCmd": "cat(var_dic_list()) "
        }
      },
      "types_to_exclude": [
        "module",
        "function",
        "builtin_function_or_method",
        "instance",
        "_Feature"
      ],
      "window_display": false
    }
  },
  "nbformat": 4,
  "nbformat_minor": 0
}
